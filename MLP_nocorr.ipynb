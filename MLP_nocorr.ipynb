{
  "cells": [
    {
      "cell_type": "markdown",
      "metadata": {
        "cell_id": "00000-4e5bf590-09bc-42f5-a318-08994a30bfd4",
        "deepnote_cell_type": "markdown",
        "id": "NjCKi8REqlN6",
        "tags": []
      },
      "source": [
        "# Multi-Layer Perceptron in `keras`\n",
        "\n",
        "In this series of lab sessions, you will use a Python library called `keras`.\n",
        "You should visit [`keras` webpage](https://keras.io/) to get access to more information about this library, including a comprehensive documentation.\n",
        "\n",
        "## The `Sequential` model in `keras`\n",
        "\n",
        "This library offers two ways to define neural network models.\n",
        "We will start with the `Sequential` class of `keras` models.\n",
        "Below is an example of how to define a `Sequential` model:"
      ]
    },
    {
      "cell_type": "code",
      "execution_count": 1,
      "metadata": {
        "tags": [],
        "id": "XKWgms20r_Hs"
      },
      "outputs": [],
      "source": [
        "import os\n",
        "\n",
        "os.environ[\"KERAS_BACKEND\"] = \"torch\""
      ]
    },
    {
      "cell_type": "code",
      "execution_count": 2,
      "metadata": {
        "cell_id": "00001-e7a9d101-f83a-49f2-ae43-deb55009fadf",
        "deepnote_cell_type": "code",
        "deepnote_to_be_reexecuted": false,
        "execution_millis": 1216,
        "execution_start": 1613342071585,
        "id": "PRKkYealqiiG",
        "output_cleared": false,
        "source_hash": "b851176a",
        "tags": []
      },
      "outputs": [],
      "source": [
        "import keras\n",
        "from keras.models import Sequential\n",
        "from keras.layers import Dense, InputLayer"
      ]
    },
    {
      "cell_type": "markdown",
      "metadata": {
        "cell_id": "00002-fddb7023-3fe5-422a-ab01-7974d23883a6",
        "deepnote_cell_type": "markdown",
        "id": "1UdkphfnspbR",
        "tags": []
      },
      "source": [
        "**1. Define layers, and add them one by one to the model**\n"
      ]
    },
    {
      "cell_type": "code",
      "execution_count": 3,
      "metadata": {
        "cell_id": "00003-3e192e55-740f-4e3e-9969-016701af86a1",
        "deepnote_cell_type": "code",
        "deepnote_to_be_reexecuted": false,
        "execution_millis": 57,
        "execution_start": 1613342072806,
        "id": "JD54PuqWsp4Y",
        "source_hash": "e4cce2c1",
        "tags": [],
        "outputId": "353d550d-3e1c-402e-c0d7-6d35aa1030ba",
        "colab": {
          "base_uri": "https://localhost:8080/"
        }
      },
      "outputs": [
        {
          "output_type": "stream",
          "name": "stderr",
          "text": [
            "/usr/local/lib/python3.11/dist-packages/keras/src/layers/core/input_layer.py:26: UserWarning: Argument `input_shape` is deprecated. Use `shape` instead.\n",
            "  warnings.warn(\n"
          ]
        }
      ],
      "source": [
        "input_layer = InputLayer(input_shape=(24,))\n",
        "hidden_layer1 = Dense(units=12, activation=\"relu\")\n",
        "hidden_layer2 = Dense(units=12, activation=\"sigmoid\")\n",
        "#[...]\n",
        "output_layer = Dense(units=3, activation=\"linear\")\n",
        "\n",
        "model = Sequential([\n",
        "    input_layer,\n",
        "    hidden_layer1,\n",
        "    hidden_layer2,\n",
        "    # ...\n",
        "    output_layer\n",
        "])"
      ]
    },
    {
      "cell_type": "markdown",
      "metadata": {
        "cell_id": "00004-607dbfcd-c789-4071-98bf-f51e230e647f",
        "deepnote_cell_type": "markdown",
        "id": "FTQLjyUoszDq",
        "tags": []
      },
      "source": [
        "**2. Pick an optimization algorithm (optimizer) and a loss function to be optimized**\n",
        "\n",
        "Usual loss functions are:\n",
        "* `\"mse\"` for regression,\n",
        "* `\"categorical_crossentropy\"` for multiclass classification (when the `y` array fed to `fit` is of shape $(n, n_\\text{classes})$)\n",
        "* `\"binary_crossentropy\"` for binary classification (when the model is fed with `y` array of shape $(n, 1)$)\n",
        "\n",
        "One can also specify additional metrics to be printed during training (correct classification rate here)."
      ]
    },
    {
      "cell_type": "code",
      "execution_count": 4,
      "metadata": {
        "cell_id": "00005-29ab32a8-52eb-40c1-9c63-1e8b8943cbdd",
        "deepnote_cell_type": "code",
        "deepnote_to_be_reexecuted": false,
        "execution_millis": 9,
        "execution_start": 1613342072870,
        "id": "A_21M9Jqs3eJ",
        "source_hash": "63a93405",
        "tags": []
      },
      "outputs": [],
      "source": [
        "model.compile(optimizer=\"adam\", loss=\"categorical_crossentropy\", metrics=[\"accuracy\"])"
      ]
    },
    {
      "cell_type": "markdown",
      "metadata": {
        "cell_id": "00006-1084a597-d5d5-4e2e-96ba-bf42d51d64c7",
        "deepnote_cell_type": "markdown",
        "id": "ykI4bexvs5x-",
        "tags": []
      },
      "source": [
        "**3. Fit the model**\n",
        "\n",
        "NB: do not try to execute the following line of code: variables `X_train` and `y_train` do not exist yet!"
      ]
    },
    {
      "cell_type": "code",
      "execution_count": null,
      "metadata": {
        "cell_id": "00007-8516017c-c628-4ef3-ac0f-d80ca5f74a93",
        "deepnote_cell_type": "code",
        "deepnote_to_be_reexecuted": false,
        "execution_millis": 2,
        "execution_start": 1613342072879,
        "id": "rt89yAdWs688",
        "source_hash": "fd94a07d",
        "tags": []
      },
      "outputs": [],
      "source": [
        "#model.fit(X_train, y_train, verbose=2, epochs=10, batch_size=200)"
      ]
    },
    {
      "cell_type": "markdown",
      "metadata": {
        "cell_id": "00008-79f8d9f3-2a42-42bb-8bcc-fc2f1f47eecd",
        "deepnote_cell_type": "markdown",
        "id": "nHhJosslvDRY",
        "tags": []
      },
      "source": [
        "## Data pre-processing\n",
        "\n",
        "Have a look at the `prepare_mnist` and `prepare_boston` functions defined below.\n",
        "\n",
        "**Question #1.** What do these functions do? What are the shapes of returned arrays? Does the returned data correpond to classification or regression problems?"
      ]
    },
    {
      "cell_type": "code",
      "execution_count": 7,
      "metadata": {
        "cell_id": "00009-c7c58fdf-b6f1-4f92-b82b-8ade1f4f44ca",
        "deepnote_cell_type": "code",
        "deepnote_to_be_reexecuted": false,
        "execution_millis": 1636,
        "execution_start": 1613342072885,
        "id": "7l-s71YRwTRA",
        "output_cleared": false,
        "source_hash": "1615ed07",
        "tags": [],
        "outputId": "61d7d5cd-e78a-451d-faa7-81c75e6cc191",
        "colab": {
          "base_uri": "https://localhost:8080/"
        }
      },
      "outputs": [
        {
          "output_type": "stream",
          "name": "stdout",
          "text": [
            "(60000, 784) (60000, 10)\n"
          ]
        }
      ],
      "source": [
        "from sklearn.preprocessing import MinMaxScaler\n",
        "from keras.datasets import mnist, boston_housing\n",
        "from keras.utils import to_categorical\n",
        "\n",
        "def prepare_mnist():\n",
        "    (x_train, y_train), (x_test, y_test) = mnist.load_data()\n",
        "    x_train = x_train.reshape((x_train.shape[0], -1))\n",
        "    x_test = x_test.reshape((x_test.shape[0], -1))\n",
        "    scaler = MinMaxScaler()\n",
        "    scaler.fit(x_train)\n",
        "    x_train = scaler.transform(x_train)\n",
        "    x_test = scaler.transform(x_test)\n",
        "    y_train = to_categorical(y_train)\n",
        "    y_test = to_categorical(y_test)\n",
        "    return x_train, x_test, y_train, y_test\n",
        "\n",
        "\n",
        "def prepare_boston():\n",
        "    (x_train, y_train), (x_test, y_test) = boston_housing.load_data()\n",
        "    scaler_x = MinMaxScaler()\n",
        "    scaler_x.fit(x_train)\n",
        "    x_train = scaler_x.transform(x_train)\n",
        "    x_test = scaler_x.transform(x_test)\n",
        "    scaler_y = MinMaxScaler()\n",
        "    scaler_y.fit(y_train.reshape((-1, 1)))\n",
        "    y_train = scaler_y.transform(y_train.reshape((-1, 1)))\n",
        "    y_test = scaler_y.transform(y_test.reshape((-1, 1)))\n",
        "    return x_train, x_test, y_train, y_test\n",
        "\n",
        "x_train, x_test, y_train, y_test = prepare_mnist()\n",
        "print(x_train.shape, y_train.shape)"
      ]
    },
    {
      "cell_type": "code",
      "execution_count": 10,
      "metadata": {
        "tags": [],
        "id": "A1VKAOZEr_Hv",
        "outputId": "2fe1b578-0623-4370-dbf5-2ad0ffce2ee4",
        "colab": {
          "base_uri": "https://localhost:8080/"
        }
      },
      "outputs": [
        {
          "output_type": "stream",
          "name": "stdout",
          "text": [
            "Downloading data from https://storage.googleapis.com/tensorflow/tf-keras-datasets/boston_housing.npz\n",
            "\u001b[1m57026/57026\u001b[0m \u001b[32m━━━━━━━━━━━━━━━━━━━━\u001b[0m\u001b[37m\u001b[0m \u001b[1m0s\u001b[0m 0us/step\n",
            "(404, 13) (404, 1)\n"
          ]
        }
      ],
      "source": []
    },
    {
      "cell_type": "code",
      "execution_count": null,
      "metadata": {
        "cell_id": "00010-3c1481af-a4d7-424b-a59e-3a2745234530",
        "deepnote_cell_type": "code",
        "deepnote_to_be_reexecuted": false,
        "execution_millis": 64,
        "execution_start": 1613342074525,
        "id": "CGlUHH6KFpj3",
        "output_cleared": false,
        "source_hash": "7facd6d8",
        "tags": []
      },
      "outputs": [],
      "source": []
    },
    {
      "cell_type": "code",
      "execution_count": null,
      "metadata": {
        "tags": [],
        "id": "57ZkJ0ixr_Hw"
      },
      "outputs": [],
      "source": []
    },
    {
      "cell_type": "markdown",
      "metadata": {
        "cell_id": "00011-1ecdf9c5-01c3-4a0d-a9c6-cfd28e6be23d",
        "deepnote_cell_type": "markdown",
        "id": "VRA_Ec2-yIGA",
        "tags": []
      },
      "source": [
        "## Building your first models\n",
        "\n",
        "In the following, when fitting models, restrict the training to 10 epochs (which is not realistic, but training for more epochs takes time...)\n",
        "\n",
        "**Question #2.** Following the guidelines provided above, implement a linear regression model for the `boston` dataset that would optimize on a least squares objective using Stochastic Gradient Descent and fit your model to the corresponding training data."
      ]
    },
    {
      "cell_type": "code",
      "execution_count": 16,
      "metadata": {
        "cell_id": "00013-2e740cd6-9a8b-4a74-b85f-c7a66127d510",
        "deepnote_cell_type": "code",
        "deepnote_to_be_reexecuted": false,
        "execution_millis": 1,
        "execution_start": 1613342074582,
        "output_cleared": true,
        "source_hash": "b623e53d",
        "tags": [],
        "id": "LHmCbIfFr_Hw",
        "outputId": "2f29ea91-a601-4710-94c3-91cbb99634c1",
        "colab": {
          "base_uri": "https://localhost:8080/"
        }
      },
      "outputs": [
        {
          "output_type": "stream",
          "name": "stdout",
          "text": [
            "(404, 13) (404, 1)\n",
            "Epoch 1/10\n",
            "5/5 - 0s - 5ms/step - accuracy: 0.0050 - loss: 0.6068\n",
            "Epoch 2/10\n",
            "5/5 - 0s - 5ms/step - accuracy: 0.0050 - loss: 0.4072\n",
            "Epoch 3/10\n",
            "5/5 - 0s - 5ms/step - accuracy: 0.0025 - loss: 0.2961\n",
            "Epoch 4/10\n",
            "5/5 - 0s - 6ms/step - accuracy: 0.0050 - loss: 0.2503\n",
            "Epoch 5/10\n",
            "5/5 - 0s - 6ms/step - accuracy: 0.0074 - loss: 0.2216\n",
            "Epoch 6/10\n",
            "5/5 - 0s - 5ms/step - accuracy: 0.0074 - loss: 0.1994\n",
            "Epoch 7/10\n"
          ]
        },
        {
          "output_type": "stream",
          "name": "stderr",
          "text": [
            "/usr/local/lib/python3.11/dist-packages/keras/src/layers/core/input_layer.py:26: UserWarning: Argument `input_shape` is deprecated. Use `shape` instead.\n",
            "  warnings.warn(\n"
          ]
        },
        {
          "output_type": "stream",
          "name": "stdout",
          "text": [
            "5/5 - 0s - 5ms/step - accuracy: 0.0099 - loss: 0.1856\n",
            "Epoch 8/10\n",
            "5/5 - 0s - 5ms/step - accuracy: 0.0099 - loss: 0.1747\n",
            "Epoch 9/10\n",
            "5/5 - 0s - 5ms/step - accuracy: 0.0099 - loss: 0.1654\n",
            "Epoch 10/10\n",
            "5/5 - 0s - 5ms/step - accuracy: 0.0099 - loss: 0.1575\n",
            "\u001b[1m4/4\u001b[0m \u001b[32m━━━━━━━━━━━━━━━━━━━━\u001b[0m\u001b[37m\u001b[0m \u001b[1m0s\u001b[0m 6ms/step - accuracy: 0.0039 - loss: 0.1393    \n",
            "Test Loss: 0.13295860588550568\n",
            "Test Accuracy: 0.009803921915590763\n"
          ]
        }
      ],
      "source": [
        "x_train, x_test, y_train, y_test = prepare_boston()\n",
        "print(x_train.shape, y_train.shape)\n",
        "#model.add(Dense(units=1, activation=\"linear\",input_shape=(x_train.shape[1],))) #linear regression is the most simple perception hence no need of any hidden layers\n",
        "#or\n",
        "model=Sequential([\n",
        "    InputLayer(input_shape=(x_train.shape[1],)),\n",
        "    Dense(units=1, activation=\"linear\")\n",
        "])\n",
        "model.compile(optimizer=\"sgd\", loss=\"mse\", metrics=[\"accuracy\"])\n",
        "model.fit(x_train, y_train, verbose=2, epochs=10, batch_size=100)\n",
        "loss, accuracy = model.evaluate(x_test, y_test)\n",
        "print('Test Loss:', loss)\n",
        "print('Test Accuracy:', accuracy)"
      ]
    },
    {
      "cell_type": "markdown",
      "metadata": {
        "cell_id": "00015-c40decce-b6c2-4f3e-af55-6dc6b2eb29cd",
        "deepnote_cell_type": "markdown",
        "id": "Gqt1yH9Gzfuh",
        "tags": []
      },
      "source": [
        "**Question #3.** Similarly, define a logistic regression model for the `mnist` dataset and print its training accuracy during training."
      ]
    },
    {
      "cell_type": "code",
      "execution_count": 12,
      "metadata": {
        "cell_id": "00014-fa195760-a859-4672-bd64-7911ece3c703",
        "deepnote_cell_type": "code",
        "tags": [],
        "id": "a1ojNWydr_Hw",
        "outputId": "c540ea5e-88e4-4e0c-f52e-31eb52374e4b",
        "colab": {
          "base_uri": "https://localhost:8080/"
        }
      },
      "outputs": [
        {
          "output_type": "stream",
          "name": "stderr",
          "text": [
            "/usr/local/lib/python3.11/dist-packages/keras/src/layers/core/dense.py:87: UserWarning: Do not pass an `input_shape`/`input_dim` argument to a layer. When using Sequential models, prefer using an `Input(shape)` object as the first layer in the model instead.\n",
            "  super().__init__(activity_regularizer=activity_regularizer, **kwargs)\n"
          ]
        },
        {
          "output_type": "stream",
          "name": "stdout",
          "text": [
            "Epoch 1/10\n",
            "300/300 - 2s - 6ms/step - accuracy: 0.6484 - loss: 1.4552\n",
            "Epoch 2/10\n",
            "300/300 - 2s - 6ms/step - accuracy: 0.8248 - loss: 0.8522\n",
            "Epoch 3/10\n",
            "300/300 - 2s - 6ms/step - accuracy: 0.8471 - loss: 0.6845\n",
            "Epoch 4/10\n",
            "300/300 - 2s - 6ms/step - accuracy: 0.8582 - loss: 0.6032\n",
            "Epoch 5/10\n",
            "300/300 - 2s - 6ms/step - accuracy: 0.8656 - loss: 0.5538\n",
            "Epoch 6/10\n",
            "300/300 - 2s - 6ms/step - accuracy: 0.8706 - loss: 0.5201\n",
            "Epoch 7/10\n",
            "300/300 - 3s - 10ms/step - accuracy: 0.8747 - loss: 0.4953\n",
            "Epoch 8/10\n",
            "300/300 - 2s - 6ms/step - accuracy: 0.8781 - loss: 0.4760\n",
            "Epoch 9/10\n",
            "300/300 - 2s - 6ms/step - accuracy: 0.8806 - loss: 0.4606\n",
            "Epoch 10/10\n",
            "300/300 - 2s - 6ms/step - accuracy: 0.8832 - loss: 0.4479\n",
            "\u001b[1m313/313\u001b[0m \u001b[32m━━━━━━━━━━━━━━━━━━━━\u001b[0m\u001b[37m\u001b[0m \u001b[1m1s\u001b[0m 3ms/step - accuracy: 0.8738 - loss: 0.4784\n",
            "Test Loss: 0.4206957519054413\n",
            "Test Accuracy: 0.8919000029563904\n"
          ]
        }
      ],
      "source": [
        "x_train, x_test, y_train, y_test = prepare_mnist()\n",
        "model = Sequential() # make sure you define model using Sequential() before adding layers\n",
        "model.add(Dense(units=10, activation=\"softmax\",input_shape=(x_train.shape[1],)))\n",
        "model.compile(optimizer=\"sgd\", loss=\"categorical_crossentropy\", metrics=[\"accuracy\"])\n",
        "model.fit(x_train,y_train, verbose=2, epochs=10, batch_size=200)\n",
        "loss, accuracy = model.evaluate(x_test, y_test)\n",
        "print('Test Loss:', loss)\n",
        "print('Test Accuracy:', accuracy)"
      ]
    },
    {
      "cell_type": "markdown",
      "metadata": {
        "cell_id": "00018-cfad4bc9-a1de-43a4-bb43-d74840d9869d",
        "deepnote_cell_type": "markdown",
        "id": "6SGA-CdS0vwW",
        "tags": []
      },
      "source": [
        "**Question #4.** Compare performance (in terms of training accuracy, we will come back to better ways to compare models afterwards) of this logistic regression model with that of a neural network with respectively 1, 2, and 3 hidden layers of 128 neurons each.\n",
        "You will use the `\"relu\"` activation function for hidden layers."
      ]
    },
    {
      "cell_type": "code",
      "execution_count": 24,
      "metadata": {
        "cell_id": "00016-667b31d2-ee2e-4a34-9a88-33c19a38522a",
        "deepnote_cell_type": "code",
        "deepnote_to_be_reexecuted": true,
        "source_hash": "b623e53d",
        "tags": [],
        "id": "d0pg8NUpr_Hw",
        "outputId": "eba9f67b-fe9a-4559-e99d-700a37338696",
        "colab": {
          "base_uri": "https://localhost:8080/"
        }
      },
      "outputs": [
        {
          "output_type": "stream",
          "name": "stdout",
          "text": [
            "Epoch 1/10\n",
            "300/300 - 3s - 12ms/step - accuracy: 0.4554 - loss: 1.9143\n",
            "Epoch 2/10\n",
            "300/300 - 3s - 11ms/step - accuracy: 0.8171 - loss: 0.7584\n",
            "Epoch 3/10\n",
            "300/300 - 3s - 10ms/step - accuracy: 0.8710 - loss: 0.4691\n",
            "Epoch 4/10\n",
            "300/300 - 4s - 14ms/step - accuracy: 0.8906 - loss: 0.3881\n",
            "Epoch 5/10\n",
            "300/300 - 3s - 12ms/step - accuracy: 0.9013 - loss: 0.3464\n",
            "Epoch 6/10\n",
            "300/300 - 3s - 11ms/step - accuracy: 0.9082 - loss: 0.3188\n",
            "Epoch 7/10\n",
            "300/300 - 3s - 11ms/step - accuracy: 0.9137 - loss: 0.2983\n",
            "Epoch 8/10\n",
            "300/300 - 4s - 14ms/step - accuracy: 0.9181 - loss: 0.2816\n",
            "Epoch 9/10\n",
            "300/300 - 3s - 11ms/step - accuracy: 0.9228 - loss: 0.2674\n",
            "Epoch 10/10\n",
            "300/300 - 3s - 10ms/step - accuracy: 0.9269 - loss: 0.2550\n",
            "\u001b[1m313/313\u001b[0m \u001b[32m━━━━━━━━━━━━━━━━━━━━\u001b[0m\u001b[37m\u001b[0m \u001b[1m1s\u001b[0m 5ms/step - accuracy: 0.9214 - loss: 0.2753\n",
            "Test Loss: 0.2420545220375061\n",
            "Test Accuracy: 0.9314000010490417\n"
          ]
        }
      ],
      "source": [
        "\n",
        "model=Sequential([\n",
        "    InputLayer(input_shape=(x_train.shape[1],)),\n",
        "    Dense(units=128, activation=\"relu\"),\n",
        "    Dense(units=128, activation=\"relu\"),\n",
        "    Dense(units=128, activation=\"relu\"),\n",
        "    Dense(units=10, activation=\"softmax\")\n",
        "])\n",
        "model.compile(optimizer=\"sgd\", loss=\"categorical_crossentropy\", metrics=[\"accuracy\"])\n",
        "model.fit(x_train,y_train, verbose=2, epochs=10, batch_size=200)\n",
        "loss, accuracy = model.evaluate(x_test, y_test)\n",
        "print('Test Loss:', loss)\n",
        "print('Test Accuracy:', accuracy)"
      ]
    },
    {
      "cell_type": "code",
      "execution_count": null,
      "metadata": {
        "tags": [],
        "id": "sUBdI47ir_Hw"
      },
      "outputs": [],
      "source": []
    },
    {
      "cell_type": "code",
      "execution_count": null,
      "metadata": {
        "tags": [],
        "id": "AkIonms0r_Hw"
      },
      "outputs": [],
      "source": []
    },
    {
      "cell_type": "code",
      "execution_count": null,
      "metadata": {
        "tags": [],
        "id": "C4cLJ7fpr_Hw"
      },
      "outputs": [],
      "source": []
    },
    {
      "cell_type": "markdown",
      "metadata": {
        "cell_id": "00020-a024cc10-c7b4-4021-89d9-0ed7447b2b9e",
        "deepnote_cell_type": "markdown",
        "id": "tC9EB0vs363m",
        "tags": []
      },
      "source": [
        "**Question #5.** `keras` models offer a `count_params()` method to get the number of parameters to be learned in the model. Use this facility to get the number of parameters of your 3-hidden-layer model and build a new one-hidden-layer model with an equivalent number of parameters. Compare performance of these two models with similar number of parameters."
      ]
    },
    {
      "cell_type": "code",
      "execution_count": null,
      "metadata": {
        "cell_id": "00018-d3f7b59d-095f-43d8-903e-2b92eb43619f",
        "deepnote_cell_type": "code",
        "deepnote_to_be_reexecuted": true,
        "source_hash": "b623e53d",
        "tags": [],
        "id": "-lG1gdO6r_Hw"
      },
      "outputs": [],
      "source": []
    },
    {
      "cell_type": "markdown",
      "metadata": {
        "cell_id": "00024-1bdd65e7-515d-4064-882a-54c651abfd3d",
        "deepnote_cell_type": "markdown",
        "id": "iXxTGmUw5ppd",
        "tags": []
      },
      "source": [
        "## A better way to compare models\n",
        "\n",
        "Comparing models based on training accuracy (resp. loss) is a \"great\" way to overfit your model to the training data.\n",
        "A better way to compare models is to use hold out data (aka validation set).\n",
        "\n",
        "To do so, `keras` allows to pass, at `fit` time, a fraction of the training data to be used as validation set. Have a look [there](https://keras.io/api/models/model_training_apis/#fit-method) for more details about how validation samples are selected.\n",
        "\n",
        "**Question #6.** Repeat model comparisons above (relying on validation scores) using 30% of training data as validation set."
      ]
    },
    {
      "cell_type": "code",
      "execution_count": null,
      "metadata": {
        "tags": [],
        "id": "2BbShfcJr_Hw"
      },
      "outputs": [],
      "source": []
    },
    {
      "cell_type": "code",
      "execution_count": null,
      "metadata": {
        "tags": [],
        "id": "hI4egKDfr_Hw"
      },
      "outputs": [],
      "source": []
    },
    {
      "cell_type": "markdown",
      "metadata": {
        "cell_id": "00026-77f877a8-a870-4358-a389-6435fd380c88",
        "deepnote_cell_type": "markdown",
        "id": "WehjG92yDMcN",
        "tags": []
      },
      "source": [
        "## Optimizers and learning rate\n",
        "\n",
        "**Question #7.** Change the optimizer used for your model. Use an optimizer with momentum and adaptive learning rate."
      ]
    },
    {
      "cell_type": "code",
      "execution_count": null,
      "metadata": {
        "cell_id": "00021-8889ee1e-48b4-4783-b8e9-fb42783d8d39",
        "deepnote_cell_type": "code",
        "deepnote_to_be_reexecuted": true,
        "source_hash": "b623e53d",
        "tags": [],
        "id": "9mR7CA_Mr_Hx"
      },
      "outputs": [],
      "source": []
    },
    {
      "cell_type": "code",
      "execution_count": null,
      "metadata": {
        "tags": [],
        "id": "aCW2vEAWr_Hx"
      },
      "outputs": [],
      "source": []
    },
    {
      "cell_type": "code",
      "execution_count": null,
      "metadata": {
        "tags": [],
        "id": "EVjAn_AVr_Hx"
      },
      "outputs": [],
      "source": []
    },
    {
      "cell_type": "markdown",
      "metadata": {
        "cell_id": "00028-47912783-f891-416d-9e9d-05d57a819e7c",
        "deepnote_cell_type": "markdown",
        "id": "ot8jiQHuEZxr",
        "tags": []
      },
      "source": [
        "**Question #8.** Using [the docs](https://keras.io/api/optimizers/), vary the learning rate of your optimizer from a very low value to a much larger one so as to show evidence of:\n",
        "* instability when the learning rate is too large;\n",
        "* slow convergence when the learning rate is too low."
      ]
    },
    {
      "cell_type": "code",
      "execution_count": null,
      "metadata": {
        "cell_id": "00029-16623cf9-4788-418c-8696-9e61bfe444fb",
        "deepnote_cell_type": "code",
        "deepnote_to_be_reexecuted": true,
        "execution_millis": 38776,
        "id": "pZfwWRDPEa1g",
        "output_cleared": true,
        "source_hash": "b623e53d",
        "tags": []
      },
      "outputs": [],
      "source": []
    },
    {
      "cell_type": "markdown",
      "metadata": {
        "cell_id": "00030-f3edc3e5-83b2-4417-99c0-ce99030af441",
        "deepnote_cell_type": "markdown",
        "id": "tyCzy_PNEqwE",
        "tags": []
      },
      "source": [
        "## Callbacks\n",
        "\n",
        "Callbacks are tools that, in `keras`, allow one to intervene during the training process of a model.\n",
        "Callbacks can be used to take actions (_ie._ save intermediate model, stop optimization if overfitting occurs, _etc._).\n",
        "\n",
        "A first callback one can play with is the one returned by any call to `fit` on a `keras` model.\n",
        "This callback is an object with an `.history` attribute in the form of a Python dictionnary whose keys are the metrics recorded during training. Each of these keys links to an array containing the consecutive values of the considered quantity (one value per epoch).\n",
        "\n",
        "**Question #9.** Plot correct classification rates on both training and validation sets."
      ]
    },
    {
      "cell_type": "code",
      "execution_count": null,
      "metadata": {
        "cell_id": "00031-a30d0556-649b-490f-8b57-f0ac45eb245a",
        "deepnote_cell_type": "code",
        "deepnote_to_be_reexecuted": true,
        "execution_millis": 67,
        "id": "qA-RPKzaI4-s",
        "output_cleared": true,
        "source_hash": "b623e53d",
        "tags": []
      },
      "outputs": [],
      "source": []
    },
    {
      "cell_type": "code",
      "execution_count": null,
      "metadata": {
        "tags": [],
        "id": "emzdlTSXr_Hx"
      },
      "outputs": [],
      "source": []
    },
    {
      "cell_type": "code",
      "execution_count": null,
      "metadata": {
        "tags": [],
        "id": "1Ln5BwJyr_Hx"
      },
      "outputs": [],
      "source": []
    },
    {
      "cell_type": "markdown",
      "metadata": {
        "cell_id": "00032-0b2aa348-08ef-45f0-8984-70863c338c77",
        "deepnote_cell_type": "markdown",
        "id": "l9y1at8qI5cO",
        "tags": []
      },
      "source": [
        "Setting up other callbacks must be explicit. This is done by passing a list of callbacks to the `fit` method.\n",
        "\n",
        "When training a model is long, one can wish to record intermediate models (in case of a crash during training, or just for cases when intermediate models were performing better than the final one).\n",
        "The [`ModelCheckpoint`](https://keras.io/api/callbacks/model_checkpoint/) callback is designed for that purpose.\n",
        "\n",
        "**Question #10.** Set up recording of intermediate models every epoch. Save the models into a dedicated file `model.keras` on your project. Only record models if validation loss is lower than for all previous models."
      ]
    },
    {
      "cell_type": "code",
      "execution_count": null,
      "metadata": {
        "cell_id": "00027-fc377b2f-fe5b-4d0e-94b4-faa235dae4bc",
        "deepnote_cell_type": "code",
        "deepnote_to_be_reexecuted": true,
        "source_hash": "b623e53d",
        "tags": [],
        "id": "j6PNf05Cr_H1"
      },
      "outputs": [],
      "source": []
    },
    {
      "cell_type": "markdown",
      "metadata": {
        "cell_id": "00028-e61b8442-9511-4a89-a53c-9590238e0fd2",
        "deepnote_cell_type": "markdown",
        "tags": [],
        "id": "ftM5v0Ubr_H1"
      },
      "source": [
        "Use the code below to check that a model has been saved:"
      ]
    },
    {
      "cell_type": "code",
      "execution_count": null,
      "metadata": {
        "cell_id": "00034-e0f2a0eb-f551-440e-94fb-2db94f18bde6",
        "deepnote_cell_type": "code",
        "deepnote_to_be_reexecuted": true,
        "id": "m0Zqsvh8Bowh",
        "source_hash": "3b41946",
        "tags": []
      },
      "outputs": [],
      "source": [
        "%ls -alh \"model.keras\""
      ]
    },
    {
      "cell_type": "code",
      "execution_count": null,
      "metadata": {
        "tags": [],
        "id": "indN8jHTr_H1"
      },
      "outputs": [],
      "source": [
        "model.evaluate(x_test, y_test)"
      ]
    },
    {
      "cell_type": "code",
      "execution_count": null,
      "metadata": {
        "tags": [],
        "id": "dPoumW0Vr_H1"
      },
      "outputs": [],
      "source": [
        "model.load_weights(\"model.keras\")\n",
        "model.evaluate(x_test, y_test)"
      ]
    },
    {
      "cell_type": "markdown",
      "metadata": {
        "cell_id": "00035-1206a01d-7467-4a3e-bbdc-ee72b70366a2",
        "deepnote_cell_type": "markdown",
        "id": "WFehub4rLrZm",
        "tags": []
      },
      "source": [
        "## Regularization"
      ]
    },
    {
      "cell_type": "markdown",
      "metadata": {
        "cell_id": "00041-10a0c691-e01a-451e-807b-594ba76cc1fa",
        "deepnote_cell_type": "markdown",
        "id": "xbOmJKruNYyS",
        "tags": []
      },
      "source": [
        "**Question #11.** Set up an [`EarlyStopping`](https://keras.io/api/callbacks/early_stopping/) strategy such that training the model will stop in case the validation loss does not decrease for 5 consecutive epochs."
      ]
    },
    {
      "cell_type": "code",
      "execution_count": null,
      "metadata": {
        "cell_id": "00033-d7da52c7-7fbf-4f7d-940d-821cbe255b64",
        "deepnote_cell_type": "code",
        "deepnote_to_be_reexecuted": true,
        "source_hash": "b623e53d",
        "tags": [],
        "id": "Ot1pd8rzr_H2"
      },
      "outputs": [],
      "source": []
    },
    {
      "cell_type": "code",
      "execution_count": null,
      "metadata": {
        "tags": [],
        "id": "CjweWL5Kr_H2"
      },
      "outputs": [],
      "source": []
    }
  ],
  "metadata": {
    "colab": {
      "name": "MLP.ipynb",
      "provenance": []
    },
    "deepnote": {},
    "deepnote_execution_queue": [],
    "deepnote_notebook_id": "35aa3537-3e05-40fa-86f0-1f7ded16df52",
    "kernelspec": {
      "display_name": "venv",
      "language": "python",
      "name": "python3"
    },
    "language_info": {
      "codemirror_mode": {
        "name": "ipython",
        "version": 3
      },
      "file_extension": ".py",
      "mimetype": "text/x-python",
      "name": "python",
      "nbconvert_exporter": "python",
      "pygments_lexer": "ipython3",
      "version": "3.10.15"
    }
  },
  "nbformat": 4,
  "nbformat_minor": 0
}